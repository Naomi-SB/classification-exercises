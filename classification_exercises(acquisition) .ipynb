{
 "cells": [
  {
   "cell_type": "code",
   "execution_count": null,
   "id": "e7105a92",
   "metadata": {},
   "outputs": [],
   "source": [
    "import pandas as pd\n",
    "import seaborn as sns\n",
    "from pydataset import data\n",
    "import numpy as np\n",
    "import os\n",
    "\n",
    "\n",
    "from env import get_db_url\n",
    "\n",
    "#turn off pink warning boxes\n",
    "import warnings\n",
    "warnings.filterwarnings(\"ignore\")"
   ]
  },
  {
   "cell_type": "markdown",
   "id": "0f73ffe0",
   "metadata": {},
   "source": [
    "### Iris data set"
   ]
  },
  {
   "cell_type": "code",
   "execution_count": null,
   "id": "5250b50e",
   "metadata": {},
   "outputs": [],
   "source": [
    "df_iris = data('iris')"
   ]
  },
  {
   "cell_type": "code",
   "execution_count": null,
   "id": "9b9b2ccc",
   "metadata": {},
   "outputs": [],
   "source": [
    "#print the first three rows\n",
    "print(df_iris.head(3))"
   ]
  },
  {
   "cell_type": "code",
   "execution_count": null,
   "id": "04172ab7",
   "metadata": {},
   "outputs": [],
   "source": [
    "#print the number of rows and columns (shape)\n",
    "print(df_iris.shape)"
   ]
  },
  {
   "cell_type": "code",
   "execution_count": null,
   "id": "dbc53ff2",
   "metadata": {},
   "outputs": [],
   "source": [
    "#print the column names\n",
    "print(df_iris.columns)"
   ]
  },
  {
   "cell_type": "code",
   "execution_count": null,
   "id": "96a91043",
   "metadata": {},
   "outputs": [],
   "source": [
    "#print the data type of each column\n",
    "print(df_iris.dtypes)"
   ]
  },
  {
   "cell_type": "code",
   "execution_count": null,
   "id": "6eb64996",
   "metadata": {},
   "outputs": [],
   "source": [
    "#print the summary statistics for each of the numeric variables\n",
    "print(df_iris.describe().T)"
   ]
  },
  {
   "cell_type": "markdown",
   "id": "cf47ed80",
   "metadata": {},
   "source": [
    "### Google data set"
   ]
  },
  {
   "cell_type": "code",
   "execution_count": null,
   "id": "fedb1f33",
   "metadata": {},
   "outputs": [],
   "source": [
    "df_google = pd.read_clipboard()"
   ]
  },
  {
   "cell_type": "code",
   "execution_count": null,
   "id": "b4cef84e",
   "metadata": {},
   "outputs": [],
   "source": [
    "#print the first three days\n",
    "print(df_google.head(3))"
   ]
  },
  {
   "cell_type": "code",
   "execution_count": null,
   "id": "a03e157a",
   "metadata": {},
   "outputs": [],
   "source": [
    "#print the number of rows and columns\n",
    "print(df_google.shape)"
   ]
  },
  {
   "cell_type": "code",
   "execution_count": null,
   "id": "2125eda9",
   "metadata": {},
   "outputs": [],
   "source": [
    "#print the column names\n",
    "print(df_google.columns)"
   ]
  },
  {
   "cell_type": "code",
   "execution_count": null,
   "id": "33f82b1f",
   "metadata": {
    "scrolled": true
   },
   "outputs": [],
   "source": [
    "#print the data type of each column\n",
    "print(df_google.dtypes)"
   ]
  },
  {
   "cell_type": "code",
   "execution_count": null,
   "id": "9d5c2e3f",
   "metadata": {},
   "outputs": [],
   "source": [
    "#print the summary statistics for each of the numeric variables\n",
    "print(df_google.describe())"
   ]
  },
  {
   "cell_type": "code",
   "execution_count": null,
   "id": "bee16562",
   "metadata": {},
   "outputs": [],
   "source": [
    "#print the unique values for each of your categorical variables\n",
    "print(df_google.Sex.value_counts(),df_google.Survived.value_counts(),df_google.Pclass.value_counts(),df_google.SibSp.value_counts())"
   ]
  },
  {
   "cell_type": "code",
   "execution_count": null,
   "id": "7814778b",
   "metadata": {},
   "outputs": [],
   "source": []
  },
  {
   "cell_type": "code",
   "execution_count": null,
   "id": "145e4345",
   "metadata": {},
   "outputs": [],
   "source": [
    "df_google.Sex.value_counts()"
   ]
  },
  {
   "cell_type": "code",
   "execution_count": null,
   "id": "8b0bf5df",
   "metadata": {},
   "outputs": [],
   "source": [
    "df_google.Survived.value_counts()"
   ]
  },
  {
   "cell_type": "code",
   "execution_count": null,
   "id": "dadefb65",
   "metadata": {},
   "outputs": [],
   "source": [
    "df_google.Pclass.value_counts()"
   ]
  },
  {
   "cell_type": "code",
   "execution_count": null,
   "id": "38bd902e",
   "metadata": {},
   "outputs": [],
   "source": [
    "df_google.SibSp.value_counts()"
   ]
  },
  {
   "cell_type": "markdown",
   "id": "6cfae4b3",
   "metadata": {},
   "source": [
    "### Read from Excel"
   ]
  },
  {
   "cell_type": "code",
   "execution_count": null,
   "id": "39b6b372",
   "metadata": {},
   "outputs": [],
   "source": [
    "df_excel = pd.read_excel(\"train.xlsx\", sheet_name= 'train')"
   ]
  },
  {
   "cell_type": "markdown",
   "id": "d7483097",
   "metadata": {},
   "source": [
    "### aquire.py Functions"
   ]
  },
  {
   "cell_type": "markdown",
   "id": "6fdfc880",
   "metadata": {},
   "source": [
    "Make a function named get_titanic_data that returns the titanic data from the codeup data science database as a pandas data frame. Obtain your data from the Codeup Data Science Database.\n"
   ]
  },
  {
   "cell_type": "code",
   "execution_count": null,
   "id": "cd1bf248",
   "metadata": {},
   "outputs": [],
   "source": [
    "def new_titanic_data():\n",
    "    '''This functionreads the titanic data from the Codeup db into a df.'''\n",
    "    \n",
    "    sql_query = 'SELECT * from passengers'\n",
    "    \n",
    "    df=pd.read_sql(sql_query, get_db_url('titanic_db'))\n",
    "    \n",
    "    return df"
   ]
  },
  {
   "cell_type": "code",
   "execution_count": null,
   "id": "e697d1c4",
   "metadata": {},
   "outputs": [],
   "source": [
    "def get_titanic_data():\n",
    "    if os.pathisfile('titanic_df.csv'):\n",
    "        df = pd.read_csv('titanic_df.csv', index_col=0)\n",
    "        \n",
    "    else: \n",
    "        df = new_titanic_data()\n",
    "        df.to_csv('titanic_df.csv')\n",
    "    return df\n"
   ]
  },
  {
   "cell_type": "code",
   "execution_count": null,
   "id": "0adc1ee5",
   "metadata": {},
   "outputs": [],
   "source": [
    "titanic_df = get_titanic_data()"
   ]
  },
  {
   "cell_type": "markdown",
   "id": "4e448a99",
   "metadata": {},
   "source": [
    "Make a function named get_iris_data that returns the data from the iris_db on the codeup data science database as a pandas DataFrame. The returned DataFrame should include the actual name of the species in addition to the species_ids. Obtain your data from the Codeup Data Science Database.\n"
   ]
  },
  {
   "cell_type": "code",
   "execution_count": null,
   "id": "673d57ca",
   "metadata": {},
   "outputs": [],
   "source": [
    "def new_iris_data():\n",
    "    '''\n",
    "    This function reads the iris data from the Codeup db into a df.\n",
    "    '''\n",
    "    sql_query = \"\"\"\n",
    "                SELECT \n",
    "                    species_id,\n",
    "                    species_name,\n",
    "                    sepal_length,\n",
    "                    sepal_width,\n",
    "                    petal_length,\n",
    "                    petal_width\n",
    "                FROM measurements\n",
    "                JOIN species USING(species_id)\n",
    "                \"\"\"\n",
    "        df = pd.read_sql(sql_query, get_db_url('iris_db'))\n",
    "    \n",
    "    return df"
   ]
  },
  {
   "cell_type": "code",
   "execution_count": null,
   "id": "574612c3",
   "metadata": {},
   "outputs": [],
   "source": [
    "def get_iris_data():\n",
    "    '''\n",
    "    This function reads in iris data from Codeup database, writes data to\n",
    "    a csv file if a local file does not exist, and returns a df.\n",
    "    '''\n",
    "    if os.path.isfile('iris_df.csv'):\n",
    "        \n",
    "        df = pd.read_csv('iris_df.csv', index_col=0)\n",
    "        \n",
    "    else:\n",
    "        \n",
    "        df = new_iris_data()\n",
    "        df.to_csv('iris_df.csv')\n",
    "        \n",
    "    return df"
   ]
  },
  {
   "cell_type": "markdown",
   "id": "c704e636",
   "metadata": {},
   "source": [
    "Make a function named get_telco_data that returns the data from the telco_churn database in SQL. In your SQL, be sure to join all 4 tables together, so that the resulting dataframe contains all the contract, payment, and internet service options. Obtain your data from the Codeup Data Science Database.\n"
   ]
  },
  {
   "cell_type": "code",
   "execution_count": null,
   "id": "f151dd80",
   "metadata": {},
   "outputs": [],
   "source": [
    "def new_telco_data():\n",
    "    '''\n",
    "    This function reads the telco data from the Codeup db into a df.\n",
    "    '''\n",
    "    sql_query = \"\"\"\n",
    "                select * from customers\n",
    "                join contract_types using (contract_type_id)\n",
    "                join internet_service_types using (internet_service_type_id)\n",
    "                join payment_types using (payment_type_id)\n",
    "                \"\"\"\n",
    "    \n",
    "    df = pd.read_sql(sql_query, get_db_url('telco_churn'))\n",
    "    \n",
    "    return df"
   ]
  },
  {
   "cell_type": "code",
   "execution_count": null,
   "id": "51fc7c5d",
   "metadata": {},
   "outputs": [],
   "source": [
    "def get_telco_data():\n",
    "    '''\n",
    "    This function reads in telco data from Codeup database, writes data to\n",
    "    a csv file if a local file does not exist, and returns a df.\n",
    "    '''\n",
    "    if os.path.isfile('telco.csv'):\n",
    "        \n",
    "        # If csv file exists read in data from csv file.\n",
    "        df = pd.read_csv('telco.csv', index_col=0)\n",
    "        \n",
    "    else:\n",
    "        \n",
    "        # Read fresh data from db into a DataFrame\n",
    "        df = new_telco_data()\n",
    "        \n",
    "        # Cache data\n",
    "        df.to_csv('telco.csv')\n",
    "        \n",
    "    return df"
   ]
  },
  {
   "cell_type": "code",
   "execution_count": null,
   "id": "5ebb571d",
   "metadata": {},
   "outputs": [],
   "source": [
    "telco_df = get_telco_data()"
   ]
  }
 ],
 "metadata": {
  "kernelspec": {
   "display_name": "Python 3 (ipykernel)",
   "language": "python",
   "name": "python3"
  },
  "language_info": {
   "codemirror_mode": {
    "name": "ipython",
    "version": 3
   },
   "file_extension": ".py",
   "mimetype": "text/x-python",
   "name": "python",
   "nbconvert_exporter": "python",
   "pygments_lexer": "ipython3",
   "version": "3.9.12"
  }
 },
 "nbformat": 4,
 "nbformat_minor": 5
}
