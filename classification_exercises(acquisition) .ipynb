{
 "cells": [
  {
   "cell_type": "code",
   "execution_count": null,
   "id": "e7105a92",
   "metadata": {},
   "outputs": [],
   "source": [
    "import pandas as pd\n",
    "import seaborn as sns\n",
    "from pydataset import data\n",
    "import numpy as np\n",
    "import os\n",
    "\n",
    "\n",
    "from env import get_db_url\n",
    "\n",
    "#turn off pink warning boxes\n",
    "import warnings\n",
    "warnings.filterwarnings(\"ignore\")"
   ]
  },
  {
   "cell_type": "markdown",
   "id": "0f73ffe0",
   "metadata": {},
   "source": [
    "### Iris data set"
   ]
  },
  {
   "cell_type": "code",
   "execution_count": null,
   "id": "5250b50e",
   "metadata": {},
   "outputs": [],
   "source": [
    "df_iris = data('iris')"
   ]
  },
  {
   "cell_type": "code",
   "execution_count": null,
   "id": "9b9b2ccc",
   "metadata": {},
   "outputs": [],
   "source": [
    "#print the first three rows\n",
    "print(df_iris.head(3))"
   ]
  },
  {
   "cell_type": "code",
   "execution_count": null,
   "id": "04172ab7",
   "metadata": {},
   "outputs": [],
   "source": [
    "#print the number of rows and columns (shape)\n",
    "print(df_iris.shape)"
   ]
  },
  {
   "cell_type": "code",
   "execution_count": null,
   "id": "dbc53ff2",
   "metadata": {},
   "outputs": [],
   "source": [
    "#print the column names\n",
    "print(df_iris.columns)"
   ]
  },
  {
   "cell_type": "code",
   "execution_count": null,
   "id": "96a91043",
   "metadata": {},
   "outputs": [],
   "source": [
    "#print the data type of each column\n",
    "print(df_iris.dtypes)"
   ]
  },
  {
   "cell_type": "code",
   "execution_count": null,
   "id": "6eb64996",
   "metadata": {},
   "outputs": [],
   "source": [
    "#print the summary statistics for each of the numeric variables\n",
    "print(df_iris.describe().T)"
   ]
  },
  {
   "cell_type": "markdown",
   "id": "cf47ed80",
   "metadata": {},
   "source": [
    "### Google data set"
   ]
  },
  {
   "cell_type": "code",
   "execution_count": null,
   "id": "fedb1f33",
   "metadata": {},
   "outputs": [],
   "source": [
    "df_google = pd.read_clipboard()"
   ]
  },
  {
   "cell_type": "code",
   "execution_count": null,
   "id": "b4cef84e",
   "metadata": {},
   "outputs": [],
   "source": [
    "#print the first three days\n",
    "print(df_google.head(3))"
   ]
  },
  {
   "cell_type": "code",
   "execution_count": null,
   "id": "a03e157a",
   "metadata": {},
   "outputs": [],
   "source": [
    "#print the number of rows and columns\n",
    "print(df_google.shape)"
   ]
  },
  {
   "cell_type": "code",
   "execution_count": null,
   "id": "2125eda9",
   "metadata": {},
   "outputs": [],
   "source": [
    "#print the column names\n",
    "print(df_google.columns)"
   ]
  },
  {
   "cell_type": "code",
   "execution_count": null,
   "id": "33f82b1f",
   "metadata": {
    "scrolled": true
   },
   "outputs": [],
   "source": [
    "#print the data type of each column\n",
    "print(df_google.dtypes)"
   ]
  },
  {
   "cell_type": "code",
   "execution_count": null,
   "id": "9d5c2e3f",
   "metadata": {},
   "outputs": [],
   "source": [
    "#print the summary statistics for each of the numeric variables\n",
    "print(df_google.describe())"
   ]
  },
  {
   "cell_type": "code",
   "execution_count": null,
   "id": "bee16562",
   "metadata": {},
   "outputs": [],
   "source": [
    "#print the unique values for each of your categorical variables\n",
    "print(df_google.Sex.value_counts(),df_google.Survived.value_counts(),df_google.Pclass.value_counts(),df_google.SibSp.value_counts())"
   ]
  },
  {
   "cell_type": "code",
   "execution_count": null,
   "id": "7814778b",
   "metadata": {},
   "outputs": [],
   "source": []
  },
  {
   "cell_type": "code",
   "execution_count": null,
   "id": "145e4345",
   "metadata": {},
   "outputs": [],
   "source": [
    "df_google.Sex.value_counts()"
   ]
  },
  {
   "cell_type": "code",
   "execution_count": null,
   "id": "8b0bf5df",
   "metadata": {},
   "outputs": [],
   "source": [
    "df_google.Survived.value_counts()"
   ]
  },
  {
   "cell_type": "code",
   "execution_count": null,
   "id": "dadefb65",
   "metadata": {},
   "outputs": [],
   "source": [
    "df_google.Pclass.value_counts()"
   ]
  },
  {
   "cell_type": "code",
   "execution_count": null,
   "id": "38bd902e",
   "metadata": {},
   "outputs": [],
   "source": [
    "df_google.SibSp.value_counts()"
   ]
  },
  {
   "cell_type": "markdown",
   "id": "6cfae4b3",
   "metadata": {},
   "source": [
    "### Read from Excel"
   ]
  },
  {
   "cell_type": "code",
   "execution_count": null,
   "id": "39b6b372",
   "metadata": {},
   "outputs": [],
   "source": [
    "df_excel = pd.read_excel(\"train.xlsx\", sheet_name= 'train')"
   ]
  },
  {
   "cell_type": "markdown",
   "id": "d7483097",
   "metadata": {},
   "source": [
    "### aquire.py Functions"
   ]
  },
  {
   "cell_type": "markdown",
   "id": "6fdfc880",
   "metadata": {},
   "source": [
    "Make a function named get_titanic_data that returns the titanic data from the codeup data science database as a pandas data frame. Obtain your data from the Codeup Data Science Database.\n"
   ]
  },
  {
   "cell_type": "code",
   "execution_count": null,
   "id": "cd1bf248",
   "metadata": {},
   "outputs": [],
   "source": [
    "def new_titanic_data():\n",
    "    '''This functionreads the titanic data from the Codeup db into a df.'''\n",
    "    \n",
    "    sql_query = 'SELECT * from passengers'\n",
    "    \n",
    "    df=pd.read_sql(sql_query, get_db_url('titanic_db'))\n",
    "    \n",
    "    return df"
   ]
  },
  {
   "cell_type": "code",
   "execution_count": null,
   "id": "e697d1c4",
   "metadata": {},
   "outputs": [],
   "source": [
    "def get_titanic_data():\n",
    "    if os.pathisfile('titanic_df.csv'):\n",
    "        df = pd.read_csv('titanic_df.csv', index_col=0)\n",
    "        \n",
    "    else: \n",
    "        df = new_titanic_data()\n",
    "        df.to_csv('titanic_df.csv')\n",
    "    return df\n"
   ]
  },
  {
   "cell_type": "code",
   "execution_count": null,
   "id": "0adc1ee5",
   "metadata": {},
   "outputs": [],
   "source": [
    "titanic_df = get_titanic_data()"
   ]
  },
  {
   "cell_type": "markdown",
   "id": "4e448a99",
   "metadata": {},
   "source": [
    "Make a function named get_iris_data that returns the data from the iris_db on the codeup data science database as a pandas DataFrame. The returned DataFrame should include the actual name of the species in addition to the species_ids. Obtain your data from the Codeup Data Science Database.\n"
   ]
  },
  {
   "cell_type": "code",
   "execution_count": null,
   "id": "673d57ca",
   "metadata": {},
   "outputs": [],
   "source": [
    "def new_iris_data():\n",
    "    '''\n",
    "    This function reads the iris data from the Codeup db into a df.\n",
    "    '''\n",
    "    sql_query = \"\"\"\n",
    "                SELECT \n",
    "                    species_id,\n",
    "                    species_name,\n",
    "                    sepal_length,\n",
    "                    sepal_width,\n",
    "                    petal_length,\n",
    "                    petal_width\n",
    "                FROM measurements\n",
    "                JOIN species USING(species_id)\n",
    "                \"\"\"\n",
    "        df = pd.read_sql(sql_query, get_db_url('iris_db'))\n",
    "    \n",
    "    return df"
   ]
  },
  {
   "cell_type": "code",
   "execution_count": null,
   "id": "574612c3",
   "metadata": {},
   "outputs": [],
   "source": [
    "def get_iris_data():\n",
    "    '''\n",
    "    This function reads in iris data from Codeup database, writes data to\n",
    "    a csv file if a local file does not exist, and returns a df.\n",
    "    '''\n",
    "    if os.path.isfile('iris_df.csv'):\n",
    "        \n",
    "        df = pd.read_csv('iris_df.csv', index_col=0)\n",
    "        \n",
    "    else:\n",
    "        \n",
    "        df = new_iris_data()\n",
    "        df.to_csv('iris_df.csv')\n",
    "        \n",
    "    return df"
   ]
  },
  {
   "cell_type": "markdown",
   "id": "c704e636",
   "metadata": {},
   "source": [
    "Make a function named get_telco_data that returns the data from the telco_churn database in SQL. In your SQL, be sure to join all 4 tables together, so that the resulting dataframe contains all the contract, payment, and internet service options. Obtain your data from the Codeup Data Science Database.\n"
   ]
  },
  {
   "cell_type": "code",
   "execution_count": null,
   "id": "f151dd80",
   "metadata": {},
   "outputs": [],
   "source": [
    "def new_telco_data():\n",
    "    '''\n",
    "    This function reads the telco data from the Codeup db into a df.\n",
    "    '''\n",
    "    sql_query = \"\"\"\n",
    "                select * from customers\n",
    "                join contract_types using (contract_type_id)\n",
    "                join internet_service_types using (internet_service_type_id)\n",
    "                join payment_types using (payment_type_id)\n",
    "                \"\"\"\n",
    "    \n",
    "    df = pd.read_sql(sql_query, get_db_url('telco_churn'))\n",
    "    \n",
    "    return df"
   ]
  },
  {
   "cell_type": "code",
   "execution_count": null,
   "id": "51fc7c5d",
   "metadata": {},
   "outputs": [],
   "source": [
    "def get_telco_data():\n",
    "    '''\n",
    "    This function reads in telco data from Codeup database, writes data to\n",
    "    a csv file if a local file does not exist, and returns a df.\n",
    "    '''\n",
    "    if os.path.isfile('telco.csv'):\n",
    "        \n",
    "        # If csv file exists read in data from csv file.\n",
    "        df = pd.read_csv('telco.csv', index_col=0)\n",
    "        \n",
    "    else:\n",
    "        \n",
    "        # Read fresh data from db into a DataFrame\n",
    "        df = new_telco_data()\n",
    "        \n",
    "        # Cache data\n",
    "        df.to_csv('telco.csv')\n",
    "        \n",
    "    return df"
   ]
  },
  {
   "cell_type": "code",
   "execution_count": null,
   "id": "5ebb571d",
   "metadata": {},
   "outputs": [],
   "source": [
    "telco_df = get_telco_data()"
   ]
  },
  {
   "cell_type": "markdown",
   "id": "c56d6027",
   "metadata": {},
   "source": [
    "# Data Prepartation Exercises:\n"
   ]
  },
  {
   "cell_type": "code",
   "execution_count": null,
   "id": "cbd80dd9",
   "metadata": {},
   "outputs": [],
   "source": [
    "import pandas as pd\n",
    "import numpy as np\n",
    "\n",
    "import aquire\n",
    "\n",
    "from sklearn.model_selection import train_test_split"
   ]
  },
  {
   "cell_type": "markdown",
   "id": "0d44e477",
   "metadata": {},
   "source": [
    "### Iris data"
   ]
  },
  {
   "cell_type": "code",
   "execution_count": null,
   "id": "ffd63692",
   "metadata": {},
   "outputs": [],
   "source": [
    "iris = aquire.get_iris_data()"
   ]
  },
  {
   "cell_type": "code",
   "execution_count": null,
   "id": "27552ef9",
   "metadata": {},
   "outputs": [],
   "source": [
    "iris.head()"
   ]
  },
  {
   "cell_type": "code",
   "execution_count": null,
   "id": "9d559a57",
   "metadata": {},
   "outputs": [],
   "source": [
    "iris = iris.drop(columns='species_id')"
   ]
  },
  {
   "cell_type": "code",
   "execution_count": null,
   "id": "3b827c41",
   "metadata": {},
   "outputs": [],
   "source": [
    "iris = iris.rename(columns={'species_name':'species'})"
   ]
  },
  {
   "cell_type": "code",
   "execution_count": null,
   "id": "cbedef6d",
   "metadata": {},
   "outputs": [],
   "source": [
    "dummy_iris = pd.get_dummies(iris.species, drop_first=True)\n",
    "dummy_iris.head()"
   ]
  },
  {
   "cell_type": "code",
   "execution_count": null,
   "id": "878f8f8a",
   "metadata": {},
   "outputs": [],
   "source": [
    "iris = pd.concat([iris, dummy_iris], axis=1)\n",
    "iris.head()"
   ]
  },
  {
   "cell_type": "code",
   "execution_count": null,
   "id": "64b11137",
   "metadata": {},
   "outputs": [],
   "source": [
    "def prep_iris(iris):\n",
    "    iris = iris.drop(columns='species_id')\n",
    "    iris = iris.rename(columns={'species_name':'species'})\n",
    "    dummy_iris = pd.get_dummies(iris.species, drop_first=True)\n",
    "    iris = pd.concat([iris, dummy_iris], axis=1)\n",
    "    return iris"
   ]
  },
  {
   "cell_type": "code",
   "execution_count": null,
   "id": "fa413fcb",
   "metadata": {},
   "outputs": [],
   "source": [
    "df = acquire.get_iris_data()"
   ]
  },
  {
   "cell_type": "markdown",
   "id": "f78ecf67",
   "metadata": {},
   "source": [
    "## Titanic data:\n"
   ]
  },
  {
   "cell_type": "code",
   "execution_count": null,
   "id": "92d26503",
   "metadata": {},
   "outputs": [],
   "source": [
    "titanic = aquire.get_titanic_data()\n",
    "titanic.head()"
   ]
  },
  {
   "cell_type": "code",
   "execution_count": null,
   "id": "1a940815",
   "metadata": {},
   "outputs": [],
   "source": [
    "titanic = titanic.drop(columns=['embarked','class', 'age','deck'])\n",
    "titanic.head()"
   ]
  },
  {
   "cell_type": "code",
   "execution_count": null,
   "id": "03f8391b",
   "metadata": {},
   "outputs": [],
   "source": [
    "dummy_df = pd.get_dummies(data=titanic[['sex','embark_town']], drop_first=True)\n",
    "dummy_df.head()"
   ]
  },
  {
   "cell_type": "code",
   "execution_count": null,
   "id": "48447c3b",
   "metadata": {},
   "outputs": [],
   "source": [
    "titanic = pd.concat([titanic, dummy_df], axis=1)\n",
    "titanic.head("
   ]
  },
  {
   "cell_type": "code",
   "execution_count": null,
   "id": "c93e8da7",
   "metadata": {},
   "outputs": [],
   "source": [
    "def prep_titanic(titanic):\n",
    "    titanic = titanic.drop(columns=['embarked','class', 'age','deck'])\n",
    "    dummy_df = pd.get_dummies(data=titanic[['sex','embark_town']], drop_first=True)\n",
    "    titanic = pd.concat([titanic, dummy_df], axis=1)\n",
    "    \n",
    "    return titanic"
   ]
  },
  {
   "cell_type": "code",
   "execution_count": null,
   "id": "bf75c1f7",
   "metadata": {},
   "outputs": [],
   "source": [
    "df = aquire.get_titanic_data()"
   ]
  },
  {
   "cell_type": "code",
   "execution_count": null,
   "id": "1c631c91",
   "metadata": {},
   "outputs": [],
   "source": [
    "df.head()"
   ]
  },
  {
   "cell_type": "code",
   "execution_count": null,
   "id": "ebe8b549",
   "metadata": {},
   "outputs": [],
   "source": [
    "df = prep_titanic(df)\n",
    "df.head()"
   ]
  },
  {
   "cell_type": "markdown",
   "id": "9b3d8ac3",
   "metadata": {},
   "source": [
    "## Telco (again!) data"
   ]
  },
  {
   "cell_type": "code",
   "execution_count": null,
   "id": "67803100",
   "metadata": {},
   "outputs": [],
   "source": [
    "telco = aquire.get_telco_data()\n",
    "telco.head()"
   ]
  },
  {
   "cell_type": "code",
   "execution_count": null,
   "id": "4cd3a93e",
   "metadata": {},
   "outputs": [],
   "source": [
    "telco = telco.drop(columns=['internet_service_type_id', 'contract_type_id', 'payment_type_id'])\n",
    "telco.head()"
   ]
  },
  {
   "cell_type": "code",
   "execution_count": null,
   "id": "465cbb03",
   "metadata": {},
   "outputs": [],
   "source": [
    "telco.gender.map({'Female':1, 'Male':0})"
   ]
  },
  {
   "cell_type": "code",
   "execution_count": null,
   "id": "c51e0e86",
   "metadata": {},
   "outputs": [],
   "source": [
    "telco['gender_encoded'] = telco.gender.map({'Female': 1, 'Male': 0})\n",
    "\n",
    "telco['partner_encoded'] = telco.partner.map({'Yes': 1, 'No': 0})\n",
    "\n",
    "telco['dependents_encoded'] = telco.dependents.map({'Yes': 1, 'No': 0})\n",
    "\n",
    "telco['phone_service_encoded'] = telco.phone_service.map({'Yes': 1, 'No': 0})\n",
    "\n",
    "telco['paperless_billing_encoded'] = telco.paperless_billing.map({'Yes': 1, 'No': 0})\n",
    "\n",
    "telco['churn_encoded'] = telco.churn.map({'Yes': 1, 'No': 0})"
   ]
  },
  {
   "cell_type": "code",
   "execution_count": null,
   "id": "197811f0",
   "metadata": {},
   "outputs": [],
   "source": [
    "dummy_df = pd.get_dummies(telco[['multiple_lines', \\\n",
    "                              'online_security', \\\n",
    "                              'online_backup', \\\n",
    "                              'device_protection', \\\n",
    "                              'tech_support', \\\n",
    "                              'streaming_tv', \\\n",
    "                              'streaming_movies', \\\n",
    "                              'contract_type', \\\n",
    "                              'internet_service_type', \\\n",
    "                              'payment_type'\n",
    "                            ]],\n",
    "                              drop_first=True)\n",
    "dummy_df.head()"
   ]
  },
  {
   "cell_type": "code",
   "execution_count": null,
   "id": "660da06d",
   "metadata": {},
   "outputs": [],
   "source": [
    "def prep_telco(telco):\n",
    "    telco = telco.drop(columns=['internet_service_type_id', 'contract_type_id', 'payment_type_id'])\n",
    "\n",
    "    telco['gender_encoded'] = telco.gender.map({'Female': 1, 'Male': 0})\n",
    "    telco['partner_encoded'] = telco.partner.map({'Yes': 1, 'No': 0})\n",
    "    telco['dependents_encoded'] = telco.dependents.map({'Yes': 1, 'No': 0})\n",
    "    telco['phone_service_encoded'] = telco.phone_service.map({'Yes': 1, 'No': 0})\n",
    "    telco['paperless_billing_encoded'] = telco.paperless_billing.map({'Yes': 1, 'No': 0})\n",
    "    telco['churn_encoded'] = telco.churn.map({'Yes': 1, 'No': 0})\n",
    "    \n",
    "    dummy_df = pd.get_dummies(telco[['multiple_lines', \\\n",
    "                              'online_security', \\\n",
    "                              'online_backup', \\\n",
    "                              'device_protection', \\\n",
    "                              'tech_support', \\\n",
    "                              'streaming_tv', \\\n",
    "                              'streaming_movies', \\\n",
    "                              'contract_type', \\\n",
    "                              'internet_service_type', \\\n",
    "                              'payment_type'\n",
    "                            ]],\n",
    "                              drop_first=True)\n",
    "    telco = pd.concat( [telco, dummy_df], axis=1 )\n",
    "    \n",
    "    return telco"
   ]
  },
  {
   "cell_type": "code",
   "execution_count": null,
   "id": "9888a5c9",
   "metadata": {},
   "outputs": [],
   "source": [
    "df = aquire.get_telco_data()\n",
    "df.head()"
   ]
  },
  {
   "cell_type": "markdown",
   "id": "f6c60354",
   "metadata": {},
   "source": [
    "# Split the Data\n"
   ]
  },
  {
   "cell_type": "code",
   "execution_count": null,
   "id": "c196149d",
   "metadata": {},
   "outputs": [],
   "source": [
    "def my_train_test_split(df, target):\n",
    "    \n",
    "    train, test = train_test_split(df, test_size=.2, random_state=123, stratify=df[target])\n",
    "    train, validate = train_test_split(train, test_size=.25, random_state=123, stratify=train[target])\n",
    "    \n",
    "    return train, validate, test"
   ]
  },
  {
   "cell_type": "markdown",
   "id": "ccaad210",
   "metadata": {},
   "source": [
    "### Run on Iris"
   ]
  },
  {
   "cell_type": "code",
   "execution_count": null,
   "id": "22728219",
   "metadata": {},
   "outputs": [],
   "source": [
    "iris.head()"
   ]
  },
  {
   "cell_type": "code",
   "execution_count": null,
   "id": "5b958abc",
   "metadata": {},
   "outputs": [],
   "source": [
    "target = 'species'"
   ]
  },
  {
   "cell_type": "code",
   "execution_count": null,
   "id": "84b521fb",
   "metadata": {},
   "outputs": [],
   "source": [
    "train_iris, validate_iris, test_iris = my_train_test_split(iris, target)\n"
   ]
  },
  {
   "cell_type": "code",
   "execution_count": null,
   "id": "ffd97932",
   "metadata": {},
   "outputs": [],
   "source": [
    "print(f'Prepared df: {iris.shape}')\n",
    "print()\n",
    "print(f'Train: {train_iris.shape}')\n",
    "print(f'Validate: {validate_iris.shape}')\n",
    "print(f'Test: {test_iris.shape}')"
   ]
  },
  {
   "cell_type": "markdown",
   "id": "7ee81946",
   "metadata": {},
   "source": [
    "### Run on Titanic"
   ]
  },
  {
   "cell_type": "code",
   "execution_count": null,
   "id": "e748b8dc",
   "metadata": {},
   "outputs": [],
   "source": [
    "target = 'survived'\n"
   ]
  },
  {
   "cell_type": "code",
   "execution_count": null,
   "id": "c1d349b2",
   "metadata": {},
   "outputs": [],
   "source": [
    "train_titanic, validate_titanic, test_titanic = my_train_test_split(titanic, target)\n"
   ]
  },
  {
   "cell_type": "code",
   "execution_count": null,
   "id": "86d33c5a",
   "metadata": {},
   "outputs": [],
   "source": [
    "print(f'Prepared df: {titanic.shape}')\n",
    "print()\n",
    "print(f'Train: {train_titanic.shape}')\n",
    "print(f'Validate: {validate_titanic.shape}')\n",
    "print(f'Test: {test_titanic.shape}')"
   ]
  },
  {
   "cell_type": "markdown",
   "id": "2ff8ed0b",
   "metadata": {},
   "source": [
    "### Run on Telco"
   ]
  },
  {
   "cell_type": "code",
   "execution_count": null,
   "id": "5a899e63",
   "metadata": {},
   "outputs": [],
   "source": [
    "target = 'churn'"
   ]
  },
  {
   "cell_type": "code",
   "execution_count": null,
   "id": "301831b8",
   "metadata": {},
   "outputs": [],
   "source": [
    "train_telco, validate_telco, test_telco = my_train_test_split(telco, target)\n"
   ]
  },
  {
   "cell_type": "code",
   "execution_count": null,
   "id": "9b9cc53d",
   "metadata": {},
   "outputs": [],
   "source": [
    "print(f'Prepared df: {telco.shape}')\n",
    "print()\n",
    "print(f'Train: {train_telco.shape}')\n",
    "print(f'Validate: {validate_telco.shape}')\n",
    "print(f'Test: {test_telco.shape}')"
   ]
  },
  {
   "cell_type": "code",
   "execution_count": null,
   "id": "df328c99",
   "metadata": {},
   "outputs": [],
   "source": []
  }
 ],
 "metadata": {
  "kernelspec": {
   "display_name": "Python 3 (ipykernel)",
   "language": "python",
   "name": "python3"
  },
  "language_info": {
   "codemirror_mode": {
    "name": "ipython",
    "version": 3
   },
   "file_extension": ".py",
   "mimetype": "text/x-python",
   "name": "python",
   "nbconvert_exporter": "python",
   "pygments_lexer": "ipython3",
   "version": "3.9.12"
  }
 },
 "nbformat": 4,
 "nbformat_minor": 5
}
